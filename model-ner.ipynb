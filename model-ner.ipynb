{
 "cells": [
  {
   "cell_type": "code",
   "execution_count": 1,
   "metadata": {},
   "outputs": [
    {
     "name": "stdout",
     "output_type": "stream",
     "text": [
      "Requirement already satisfied: bert-serving-server in /home/ec2-user/anaconda3/envs/tensorflow_p36/lib/python3.6/site-packages (1.10.0)\n",
      "Requirement already satisfied: pyzmq>=17.1.0 in /home/ec2-user/anaconda3/envs/tensorflow_p36/lib/python3.6/site-packages (from bert-serving-server) (19.0.0)\n",
      "Requirement already satisfied: numpy in /home/ec2-user/anaconda3/envs/tensorflow_p36/lib/python3.6/site-packages (from bert-serving-server) (1.16.4)\n",
      "Requirement already satisfied: six in /home/ec2-user/anaconda3/envs/tensorflow_p36/lib/python3.6/site-packages (from bert-serving-server) (1.11.0)\n",
      "Requirement already satisfied: GPUtil>=1.3.0 in /home/ec2-user/anaconda3/envs/tensorflow_p36/lib/python3.6/site-packages (from bert-serving-server) (1.4.0)\n",
      "Requirement already satisfied: termcolor>=1.1 in /home/ec2-user/anaconda3/envs/tensorflow_p36/lib/python3.6/site-packages (from bert-serving-server) (1.1.0)\n",
      "\u001b[33mWARNING: You are using pip version 19.3.1; however, version 20.0.2 is available.\n",
      "You should consider upgrading via the 'pip install --upgrade pip' command.\u001b[0m\n",
      "Requirement already satisfied: graphviz in /home/ec2-user/anaconda3/envs/tensorflow_p36/lib/python3.6/site-packages (0.13.2)\n",
      "\u001b[33mWARNING: You are using pip version 19.3.1; however, version 20.0.2 is available.\n",
      "You should consider upgrading via the 'pip install --upgrade pip' command.\u001b[0m\n",
      "Requirement already satisfied: pydot in /home/ec2-user/anaconda3/envs/tensorflow_p36/lib/python3.6/site-packages (1.4.1)\n",
      "Requirement already satisfied: pyparsing>=2.1.4 in /home/ec2-user/anaconda3/envs/tensorflow_p36/lib/python3.6/site-packages (from pydot) (2.2.0)\n",
      "\u001b[33mWARNING: You are using pip version 19.3.1; however, version 20.0.2 is available.\n",
      "You should consider upgrading via the 'pip install --upgrade pip' command.\u001b[0m\n",
      "Requirement already satisfied: bert-serving-client in /home/ec2-user/anaconda3/envs/tensorflow_p36/lib/python3.6/site-packages (1.10.0)\n",
      "Requirement already satisfied: numpy in /home/ec2-user/anaconda3/envs/tensorflow_p36/lib/python3.6/site-packages (from bert-serving-client) (1.16.4)\n",
      "Requirement already satisfied: pyzmq>=17.1.0 in /home/ec2-user/anaconda3/envs/tensorflow_p36/lib/python3.6/site-packages (from bert-serving-client) (19.0.0)\n",
      "\u001b[33mWARNING: You are using pip version 19.3.1; however, version 20.0.2 is available.\n",
      "You should consider upgrading via the 'pip install --upgrade pip' command.\u001b[0m\n",
      "Requirement already satisfied: fasttext in /home/ec2-user/anaconda3/envs/tensorflow_p36/lib/python3.6/site-packages (0.9.1)\n",
      "Requirement already satisfied: pybind11>=2.2 in /home/ec2-user/anaconda3/envs/tensorflow_p36/lib/python3.6/site-packages (from fasttext) (2.4.3)\n",
      "Requirement already satisfied: setuptools>=0.7.0 in /home/ec2-user/anaconda3/envs/tensorflow_p36/lib/python3.6/site-packages (from fasttext) (41.6.0)\n",
      "Requirement already satisfied: numpy in /home/ec2-user/anaconda3/envs/tensorflow_p36/lib/python3.6/site-packages (from fasttext) (1.16.4)\n",
      "\u001b[33mWARNING: You are using pip version 19.3.1; however, version 20.0.2 is available.\n",
      "You should consider upgrading via the 'pip install --upgrade pip' command.\u001b[0m\n",
      "Requirement already satisfied: mlflow in /home/ec2-user/anaconda3/envs/tensorflow_p36/lib/python3.6/site-packages (1.7.0)\n",
      "Requirement already satisfied: numpy in /home/ec2-user/anaconda3/envs/tensorflow_p36/lib/python3.6/site-packages (from mlflow) (1.16.4)\n",
      "Requirement already satisfied: simplejson in /home/ec2-user/anaconda3/envs/tensorflow_p36/lib/python3.6/site-packages (from mlflow) (3.17.0)\n",
      "Requirement already satisfied: cloudpickle in /home/ec2-user/anaconda3/envs/tensorflow_p36/lib/python3.6/site-packages (from mlflow) (0.5.3)\n",
      "Requirement already satisfied: gitpython>=2.1.0 in /home/ec2-user/anaconda3/envs/tensorflow_p36/lib/python3.6/site-packages (from mlflow) (3.1.0)\n",
      "Requirement already satisfied: protobuf>=3.6.0 in /home/ec2-user/anaconda3/envs/tensorflow_p36/lib/python3.6/site-packages (from mlflow) (3.8.0)\n",
      "Requirement already satisfied: six>=1.10.0 in /home/ec2-user/anaconda3/envs/tensorflow_p36/lib/python3.6/site-packages (from mlflow) (1.11.0)\n",
      "Requirement already satisfied: prometheus-flask-exporter in /home/ec2-user/anaconda3/envs/tensorflow_p36/lib/python3.6/site-packages (from mlflow) (0.13.0)\n",
      "Requirement already satisfied: pandas in /home/ec2-user/anaconda3/envs/tensorflow_p36/lib/python3.6/site-packages (from mlflow) (0.24.2)\n",
      "Requirement already satisfied: docker>=4.0.0 in /home/ec2-user/anaconda3/envs/tensorflow_p36/lib/python3.6/site-packages (from mlflow) (4.1.0)\n",
      "Requirement already satisfied: requests>=2.17.3 in /home/ec2-user/anaconda3/envs/tensorflow_p36/lib/python3.6/site-packages (from mlflow) (2.20.0)\n",
      "Requirement already satisfied: python-dateutil in /home/ec2-user/anaconda3/envs/tensorflow_p36/lib/python3.6/site-packages (from mlflow) (2.7.3)\n",
      "Requirement already satisfied: sqlalchemy in /home/ec2-user/anaconda3/envs/tensorflow_p36/lib/python3.6/site-packages (from mlflow) (1.2.11)\n",
      "Requirement already satisfied: querystring-parser in /home/ec2-user/anaconda3/envs/tensorflow_p36/lib/python3.6/site-packages (from mlflow) (1.2.4)\n",
      "Requirement already satisfied: click>=7.0 in /home/ec2-user/anaconda3/envs/tensorflow_p36/lib/python3.6/site-packages (from mlflow) (7.1.1)\n",
      "Requirement already satisfied: gorilla in /home/ec2-user/anaconda3/envs/tensorflow_p36/lib/python3.6/site-packages (from mlflow) (0.3.0)\n",
      "Requirement already satisfied: alembic in /home/ec2-user/anaconda3/envs/tensorflow_p36/lib/python3.6/site-packages (from mlflow) (1.4.1)\n",
      "Requirement already satisfied: entrypoints in /home/ec2-user/anaconda3/envs/tensorflow_p36/lib/python3.6/site-packages (from mlflow) (0.2.3)\n",
      "Requirement already satisfied: sqlparse in /home/ec2-user/anaconda3/envs/tensorflow_p36/lib/python3.6/site-packages (from mlflow) (0.3.1)\n",
      "Requirement already satisfied: databricks-cli>=0.8.7 in /home/ec2-user/anaconda3/envs/tensorflow_p36/lib/python3.6/site-packages (from mlflow) (0.9.1)\n",
      "Requirement already satisfied: pyyaml in /home/ec2-user/anaconda3/envs/tensorflow_p36/lib/python3.6/site-packages (from mlflow) (5.2)\n",
      "Requirement already satisfied: gunicorn; platform_system != \"Windows\" in /home/ec2-user/anaconda3/envs/tensorflow_p36/lib/python3.6/site-packages (from mlflow) (20.0.4)\n",
      "Requirement already satisfied: Flask in /home/ec2-user/anaconda3/envs/tensorflow_p36/lib/python3.6/site-packages (from mlflow) (1.0.2)\n",
      "Requirement already satisfied: gitdb<5,>=4.0.1 in /home/ec2-user/anaconda3/envs/tensorflow_p36/lib/python3.6/site-packages (from gitpython>=2.1.0->mlflow) (4.0.2)\n",
      "Requirement already satisfied: setuptools in /home/ec2-user/anaconda3/envs/tensorflow_p36/lib/python3.6/site-packages (from protobuf>=3.6.0->mlflow) (41.6.0)\n",
      "Requirement already satisfied: prometheus-client in /home/ec2-user/anaconda3/envs/tensorflow_p36/lib/python3.6/site-packages (from prometheus-flask-exporter->mlflow) (0.7.1)\n",
      "Requirement already satisfied: pytz>=2011k in /home/ec2-user/anaconda3/envs/tensorflow_p36/lib/python3.6/site-packages (from pandas->mlflow) (2018.4)\n",
      "Requirement already satisfied: websocket-client>=0.32.0 in /home/ec2-user/anaconda3/envs/tensorflow_p36/lib/python3.6/site-packages (from docker>=4.0.0->mlflow) (0.56.0)\n",
      "Requirement already satisfied: certifi>=2017.4.17 in /home/ec2-user/anaconda3/envs/tensorflow_p36/lib/python3.6/site-packages (from requests>=2.17.3->mlflow) (2019.9.11)\n",
      "Requirement already satisfied: chardet<3.1.0,>=3.0.2 in /home/ec2-user/anaconda3/envs/tensorflow_p36/lib/python3.6/site-packages (from requests>=2.17.3->mlflow) (3.0.4)\n",
      "Requirement already satisfied: idna<2.8,>=2.5 in /home/ec2-user/anaconda3/envs/tensorflow_p36/lib/python3.6/site-packages (from requests>=2.17.3->mlflow) (2.6)\n",
      "Requirement already satisfied: urllib3<1.25,>=1.21.1 in /home/ec2-user/anaconda3/envs/tensorflow_p36/lib/python3.6/site-packages (from requests>=2.17.3->mlflow) (1.23)\n",
      "Requirement already satisfied: python-editor>=0.3 in /home/ec2-user/anaconda3/envs/tensorflow_p36/lib/python3.6/site-packages (from alembic->mlflow) (1.0.4)\n",
      "Requirement already satisfied: Mako in /home/ec2-user/anaconda3/envs/tensorflow_p36/lib/python3.6/site-packages (from alembic->mlflow) (1.1.2)\n",
      "Requirement already satisfied: tabulate>=0.7.7 in /home/ec2-user/anaconda3/envs/tensorflow_p36/lib/python3.6/site-packages (from databricks-cli>=0.8.7->mlflow) (0.8.6)\n",
      "Requirement already satisfied: configparser>=0.3.5 in /home/ec2-user/anaconda3/envs/tensorflow_p36/lib/python3.6/site-packages (from databricks-cli>=0.8.7->mlflow) (4.0.2)\n",
      "Requirement already satisfied: Jinja2>=2.10 in /home/ec2-user/anaconda3/envs/tensorflow_p36/lib/python3.6/site-packages (from Flask->mlflow) (2.10)\n",
      "Requirement already satisfied: itsdangerous>=0.24 in /home/ec2-user/anaconda3/envs/tensorflow_p36/lib/python3.6/site-packages (from Flask->mlflow) (0.24)\n",
      "Requirement already satisfied: Werkzeug>=0.14 in /home/ec2-user/anaconda3/envs/tensorflow_p36/lib/python3.6/site-packages (from Flask->mlflow) (0.14.1)\n",
      "Requirement already satisfied: smmap<4,>=3.0.1 in /home/ec2-user/anaconda3/envs/tensorflow_p36/lib/python3.6/site-packages (from gitdb<5,>=4.0.1->gitpython>=2.1.0->mlflow) (3.0.1)\n",
      "Requirement already satisfied: MarkupSafe>=0.9.2 in /home/ec2-user/anaconda3/envs/tensorflow_p36/lib/python3.6/site-packages (from Mako->alembic->mlflow) (1.0)\n",
      "\u001b[33mWARNING: You are using pip version 19.3.1; however, version 20.0.2 is available.\n",
      "You should consider upgrading via the 'pip install --upgrade pip' command.\u001b[0m\n"
     ]
    }
   ],
   "source": [
    "!pip install bert-serving-server\n",
    "!pip install graphviz\n",
    "!pip install pydot\n",
    "!pip install bert-serving-client\n",
    "!pip install fasttext\n",
    "!pip install mlflow"
   ]
  },
  {
   "cell_type": "code",
   "execution_count": null,
   "metadata": {},
   "outputs": [],
   "source": [
    "!bert-serving-start -model_dir ./wwm_cased_L-24_H-1024_A-16/ -num_worker 1 -pooling_strategy NONE"
   ]
  },
  {
   "cell_type": "code",
   "execution_count": 1,
   "metadata": {},
   "outputs": [],
   "source": [
    "\"\"\"Model layers\"\"\"\n",
    "max_sequence_length = 25\n",
    "max_char_length = 20\n",
    "\n",
    "dropout_rate = 0.5\n",
    "recurrent_dropout_rate = 0.5\n",
    "lstm_size = 256\n",
    "dense_size_word = 256\n",
    "dense_size_case = 10\n",
    "optimizer = \"nadam\"\n",
    "\n",
    "batch_size=32\n",
    "epochs=64\n",
    "validation_split=0.1"
   ]
  },
  {
   "cell_type": "markdown",
   "metadata": {},
   "source": [
    "# Preprocessing"
   ]
  },
  {
   "cell_type": "code",
   "execution_count": 2,
   "metadata": {},
   "outputs": [],
   "source": [
    "import numpy as np\n",
    "import time"
   ]
  },
  {
   "cell_type": "code",
   "execution_count": 3,
   "metadata": {},
   "outputs": [],
   "source": [
    "# dictionary of all possible characters\n",
    "char2idx = {\"PADDING\": 0, \"UNKNOWN\": 1}\n",
    "for c in \" 0123456789abcdefghijklmnopqrstuvwxyzABCDEFGHIJKLMNOPQRSTUVWXYZé.,-_()[]{}!?:;#'\\\"/\\\\%$`&=*+@^~|<>ěščřžýáíéůúĚŠČŘŽÝÁÍÉŮÚ\":\n",
    "    char2idx[c] = len(char2idx)"
   ]
  },
  {
   "cell_type": "code",
   "execution_count": 4,
   "metadata": {},
   "outputs": [],
   "source": [
    "# mapping for token cases\n",
    "case2idx = {'numeric': 0, 'allLower': 1, 'allUpper': 2, 'initialUpper': 3, 'other': 4, 'mainly_numeric': 5,\n",
    "                 'contains_digit': 6, 'PADDING_TOKEN': 7}\n",
    "case_embeddings = np.identity(len(case2idx), dtype='float32')  # identity matrix used"
   ]
  },
  {
   "cell_type": "code",
   "execution_count": 5,
   "metadata": {},
   "outputs": [
    {
     "name": "stdout",
     "output_type": "stream",
     "text": [
      "WARNING:tensorflow:From /home/ec2-user/anaconda3/envs/tensorflow_p36/lib/python3.6/site-packages/tensorflow_core/__init__.py:1467: The name tf.estimator.inputs is deprecated. Please use tf.compat.v1.estimator.inputs instead.\n",
      "\n"
     ]
    }
   ],
   "source": [
    "from tensorflow.keras.models import Model\n",
    "from tensorflow.keras.layers import TimeDistributed, Conv1D, Dense, Embedding, Input, Dropout, LSTM, Bidirectional, \\\n",
    "    MaxPooling1D, Flatten, concatenate\n",
    "from tensorflow.keras.initializers import RandomUniform\n",
    "from tensorflow.keras.metrics import Precision"
   ]
  },
  {
   "cell_type": "code",
   "execution_count": 6,
   "metadata": {},
   "outputs": [],
   "source": [
    "import pickle \n",
    "train_data = pickle.load(open(\"./data/atis_train.plk\" , \"rb\"))\n",
    "test_data = pickle.load(open(\"./data/atis_test.plk\" , \"rb\"))"
   ]
  },
  {
   "cell_type": "code",
   "execution_count": 7,
   "metadata": {},
   "outputs": [],
   "source": [
    "def transform_seq2char(tokenized_sequences, charLookup, max_sequence_length, max_char_length):\n",
    "    X_char = []\n",
    "\n",
    "    for sentence in tokenized_sequences:\n",
    "        sent_seq = []\n",
    "        for i in range(max_sequence_length):\n",
    "            word_seq = []\n",
    "            for j in range(max_char_length):\n",
    "                try:\n",
    "                    word_seq.append(charLookup.get(sentence[i][j]))\n",
    "                except:\n",
    "                    # TODO distinguish between PADDING and UNKNOWN\n",
    "                    word_seq.append(charLookup.get(\"PADDING\"))  # padding\n",
    "            sent_seq.append(np.array(word_seq))\n",
    "        X_char.append(np.array(sent_seq))\n",
    "    return X_char\n",
    "\n",
    "\n",
    "def transform_seq2case(tokenized_sequences, caseLookup, max_sequence_length):\n",
    "    X_case_sentences = []\n",
    "\n",
    "    for sentence in tokenized_sequences:\n",
    "        X_case_sentence = []\n",
    "        for i in range(max_sequence_length):\n",
    "            try:\n",
    "                word = sentence[i]\n",
    "            except:\n",
    "                X_case_sentence.append(caseLookup[\"PADDING_TOKEN\"])\n",
    "                continue\n",
    "\n",
    "            casing = 'other'\n",
    "\n",
    "            numDigits = 0\n",
    "            for char in word:\n",
    "                if char.isdigit():\n",
    "                    numDigits += 1\n",
    "\n",
    "            digitFraction = numDigits / float(len(word))\n",
    "\n",
    "            if word.isdigit():  # Is a digit\n",
    "                casing = 'numeric'\n",
    "            elif digitFraction > 0.5:\n",
    "                casing = 'mainly_numeric'\n",
    "            elif word.islower():  # All lower case\n",
    "                casing = 'allLower'\n",
    "            elif word.isupper():  # All upper case\n",
    "                casing = 'allUpper'\n",
    "            elif word[0].isupper():  # is a title, initial char upper, then all lower\n",
    "                casing = 'initialUpper'\n",
    "            elif numDigits > 0:\n",
    "                casing = 'contains_digit'\n",
    "\n",
    "            X_case_sentence.append(caseLookup[casing])\n",
    "        X_case_sentences.append(np.array(X_case_sentence))\n",
    "    return np.array(X_case_sentences)\n"
   ]
  },
  {
   "cell_type": "code",
   "execution_count": 8,
   "metadata": {},
   "outputs": [],
   "source": [
    "train_char_input = np.asarray(transform_seq2char(train_data[\"token\"], char2idx, max_sequence_length, max_char_length))"
   ]
  },
  {
   "cell_type": "code",
   "execution_count": 9,
   "metadata": {},
   "outputs": [],
   "source": [
    "train_case_input = np.asarray(transform_seq2case(train_data[\"token\"], case2idx, max_sequence_length))"
   ]
  },
  {
   "cell_type": "code",
   "execution_count": 10,
   "metadata": {},
   "outputs": [],
   "source": [
    "embedding_type = \"fasttext\""
   ]
  },
  {
   "cell_type": "code",
   "execution_count": 11,
   "metadata": {},
   "outputs": [
    {
     "name": "stderr",
     "output_type": "stream",
     "text": [
      "\n"
     ]
    }
   ],
   "source": [
    "if embedding_type == \"bert\":\n",
    "    from bert_serving.client import BertClient\n",
    "    client = BertClient(check_length=False)\n",
    "    train_embeddings_input = client.encode(train_data[\"token\"], is_tokenized=True)\n",
    "elif embedding_type == \"fasttext\":\n",
    "    import fasttext\n",
    "    from tensorflow.keras.preprocessing.text import text_to_word_sequence\n",
    "\n",
    "    class FastText(object):\n",
    "        def __init__(self, padding=40):\n",
    "            self.e = fasttext.load_model(\"./weights/cc.en.300.bin\")\n",
    "            self.padding = padding\n",
    "\n",
    "        def texts_to_sequences(self, texts):\n",
    "            sentence_features = np.zeros((len(texts), self.padding, self.e.get_dimension()))\n",
    "            for j, text in enumerate(texts):\n",
    "                words = text_to_word_sequence(\" \".join(text))\n",
    "                for i, word in enumerate(words):\n",
    "                    if i >= self.padding:\n",
    "                        break\n",
    "                    sentence_features[j, i, :] = self.e.get_word_vector(word)\n",
    "            return sentence_features\n",
    "\n",
    "        def tokens_to_embeddings(self, token_list):\n",
    "            sentence_features = np.zeros((self.padding, self.e.get_dimension()))\n",
    "            for i, word in enumerate(token_list):\n",
    "                if i >= self.padding:\n",
    "                    break\n",
    "                sentence_features[i, :] = self.e.get_word_vector(word)\n",
    "            return sentence_features\n",
    "        \n",
    "        \n",
    "    fasttext = FastText(padding=max_sequence_length)\n",
    "    train_embeddings_input = fasttext.texts_to_sequences(train_data[\"token\"])\n",
    "elif embedding_type == \"glove\":\n",
    "    \n",
    "    class GloVe(dict):\n",
    "        def __init__(self, file=None, dimension=300):\n",
    "            super().__init__()\n",
    "            self.dimension = dimension\n",
    "            with open(file) as f:\n",
    "                for line in f:\n",
    "                    try:\n",
    "                        values = line.split()\n",
    "                        word = values[0]\n",
    "                        coefs = np.asarray(values[1:], dtype='float32')\n",
    "                        self[word] = coefs\n",
    "                    except:\n",
    "                        pass\n",
    "            print('Found %s word vectors.' % len(self.keys()))\n",
    "\n",
    "        def __getitem__(self, item):\n",
    "            return super().__getitem__(item)\n",
    "        \n",
    "        def texts_to_sequences(self, texts, padding):\n",
    "            sentence_features = np.zeros((len(texts), padding, self.dimension))\n",
    "            for j, text in enumerate(texts):\n",
    "                for i, word in enumerate(text):\n",
    "                    if i >= padding:\n",
    "                        break\n",
    "                    if word in self:\n",
    "                        sentence_features[j, i, :] = self[word]\n",
    "            return sentence_features\n",
    "    \n",
    "    glove = GloVe(file=\"./weights/glove.840B.300d.txt\", dimension=300)\n",
    "    train_embeddings_input = glove.texts_to_sequences(train_data[\"token\"], padding=max_sequence_length)\n",
    "    \n",
    "else:\n",
    "    print(\"Unknown embedding_type: {}\".format(embedding_type))\n"
   ]
  },
  {
   "cell_type": "code",
   "execution_count": 12,
   "metadata": {},
   "outputs": [
    {
     "data": {
      "text/plain": [
       "(4978, 25, 300)"
      ]
     },
     "execution_count": 12,
     "metadata": {},
     "output_type": "execute_result"
    }
   ],
   "source": [
    "train_embeddings_input.shape"
   ]
  },
  {
   "cell_type": "code",
   "execution_count": 13,
   "metadata": {},
   "outputs": [],
   "source": [
    "embedding_dim = train_embeddings_input.shape[-1]\n",
    "# embedding_dim = 1024"
   ]
  },
  {
   "cell_type": "code",
   "execution_count": 14,
   "metadata": {},
   "outputs": [
    {
     "data": {
      "text/plain": [
       "(4978, 25)"
      ]
     },
     "execution_count": 14,
     "metadata": {},
     "output_type": "execute_result"
    }
   ],
   "source": [
    "train_case_input.shape"
   ]
  },
  {
   "cell_type": "code",
   "execution_count": 15,
   "metadata": {},
   "outputs": [],
   "source": [
    "from tensorflow.keras.utils import to_categorical\n",
    "train_case_input = to_categorical(train_case_input, num_classes=len(case2idx), dtype='float32')"
   ]
  },
  {
   "cell_type": "code",
   "execution_count": 16,
   "metadata": {},
   "outputs": [
    {
     "data": {
      "text/plain": [
       "(4978, 25, 8)"
      ]
     },
     "execution_count": 16,
     "metadata": {},
     "output_type": "execute_result"
    }
   ],
   "source": [
    "train_case_input.shape"
   ]
  },
  {
   "cell_type": "code",
   "execution_count": 17,
   "metadata": {},
   "outputs": [
    {
     "data": {
      "text/plain": [
       "(4978, 25, 20)"
      ]
     },
     "execution_count": 17,
     "metadata": {},
     "output_type": "execute_result"
    }
   ],
   "source": [
    "train_char_input.shape"
   ]
  },
  {
   "cell_type": "code",
   "execution_count": 18,
   "metadata": {},
   "outputs": [],
   "source": [
    "label2idx = {l: i + 1 for i, l in enumerate(set([item for sublist in train_data[\"ner\"] for item in sublist]))}\n",
    "for l in set([item for sublist in test_data[\"ner\"] for item in sublist]):\n",
    "    if l not in label2idx:\n",
    "        label2idx[l] = len(label2idx) + 1 \n",
    "\n",
    "label2idx[\"PAD\"] = 0\n",
    "idx2label = {v: k for k, v in label2idx.items()}"
   ]
  },
  {
   "cell_type": "code",
   "execution_count": 19,
   "metadata": {},
   "outputs": [],
   "source": [
    "intent2idx = {l: i for i, l in enumerate(set(train_data[\"intent\"] + test_data[\"intent\"]))}\n",
    "idx2intent = {v: k for k, v in intent2idx.items()}"
   ]
  },
  {
   "cell_type": "code",
   "execution_count": 20,
   "metadata": {},
   "outputs": [],
   "source": [
    "from tensorflow.keras.preprocessing.sequence import pad_sequences\n",
    "\n",
    "# get output data\n",
    "Y = [[label2idx[tag] for tag in example] for example in train_data[\"ner\"]]\n",
    "ner_train_output = pad_sequences(maxlen=max_sequence_length, sequences=Y, value=label2idx[\"PAD\"], padding='post', truncating='post')\n",
    "intent_train_output = np.asarray([intent2idx[x] for x in train_data[\"intent\"]])\n"
   ]
  },
  {
   "cell_type": "code",
   "execution_count": 21,
   "metadata": {},
   "outputs": [],
   "source": [
    "intent_train_output = intent_train_output.reshape(-1,1)"
   ]
  },
  {
   "cell_type": "code",
   "execution_count": 22,
   "metadata": {},
   "outputs": [],
   "source": [
    "# del glove"
   ]
  },
  {
   "cell_type": "markdown",
   "metadata": {},
   "source": [
    "# Model definition"
   ]
  },
  {
   "cell_type": "code",
   "execution_count": 23,
   "metadata": {},
   "outputs": [],
   "source": [
    "n_labels = len(label2idx)\n",
    "n_chars = len(char2idx)\n",
    "n_intents = len(intent2idx)"
   ]
  },
  {
   "cell_type": "code",
   "execution_count": 24,
   "metadata": {},
   "outputs": [
    {
     "name": "stdout",
     "output_type": "stream",
     "text": [
      "WARNING:tensorflow:From /home/ec2-user/anaconda3/envs/tensorflow_p36/lib/python3.6/site-packages/tensorflow_core/python/keras/initializers.py:119: calling RandomUniform.__init__ (from tensorflow.python.ops.init_ops) with dtype is deprecated and will be removed in a future version.\n",
      "Instructions for updating:\n",
      "Call initializer instance with the dtype argument instead of passing it to the constructor\n",
      "WARNING:tensorflow:From /home/ec2-user/anaconda3/envs/tensorflow_p36/lib/python3.6/site-packages/tensorflow_core/python/ops/resource_variable_ops.py:1630: calling BaseResourceVariable.__init__ (from tensorflow.python.ops.resource_variable_ops) with constraint is deprecated and will be removed in a future version.\n",
      "Instructions for updating:\n",
      "If using Keras pass *_constraint arguments to layers.\n",
      "WARNING:tensorflow:From /home/ec2-user/anaconda3/envs/tensorflow_p36/lib/python3.6/site-packages/tensorflow_core/python/ops/init_ops.py:97: calling GlorotUniform.__init__ (from tensorflow.python.ops.init_ops) with dtype is deprecated and will be removed in a future version.\n",
      "Instructions for updating:\n",
      "Call initializer instance with the dtype argument instead of passing it to the constructor\n",
      "WARNING:tensorflow:From /home/ec2-user/anaconda3/envs/tensorflow_p36/lib/python3.6/site-packages/tensorflow_core/python/ops/init_ops.py:97: calling Orthogonal.__init__ (from tensorflow.python.ops.init_ops) with dtype is deprecated and will be removed in a future version.\n",
      "Instructions for updating:\n",
      "Call initializer instance with the dtype argument instead of passing it to the constructor\n",
      "WARNING:tensorflow:From /home/ec2-user/anaconda3/envs/tensorflow_p36/lib/python3.6/site-packages/tensorflow_core/python/ops/init_ops.py:97: calling Zeros.__init__ (from tensorflow.python.ops.init_ops) with dtype is deprecated and will be removed in a future version.\n",
      "Instructions for updating:\n",
      "Call initializer instance with the dtype argument instead of passing it to the constructor\n",
      "Model: \"model\"\n",
      "__________________________________________________________________________________________________\n",
      "Layer (type)                    Output Shape         Param #     Connected to                     \n",
      "==================================================================================================\n",
      "Character_input (InputLayer)    [(None, 25, 20)]     0                                            \n",
      "__________________________________________________________________________________________________\n",
      "Character_embedding (TimeDistri (None, 25, 20, 30)   3570        Character_input[0][0]            \n",
      "__________________________________________________________________________________________________\n",
      "dropout (Dropout)               (None, 25, 20, 30)   0           Character_embedding[0][0]        \n",
      "__________________________________________________________________________________________________\n",
      "Convolution (TimeDistributed)   (None, 25, 20, 30)   2730        dropout[0][0]                    \n",
      "__________________________________________________________________________________________________\n",
      "Maxpool (TimeDistributed)       (None, 25, 1, 30)    0           Convolution[0][0]                \n",
      "__________________________________________________________________________________________________\n",
      "Embedding_input (InputLayer)    [(None, 25, 300)]    0                                            \n",
      "__________________________________________________________________________________________________\n",
      "Casing_input (InputLayer)       [(None, 25, 8)]      0                                            \n",
      "__________________________________________________________________________________________________\n",
      "Flatten (TimeDistributed)       (None, 25, 30)       0           Maxpool[0][0]                    \n",
      "__________________________________________________________________________________________________\n",
      "dense (Dense)                   (None, 25, 512)      154112      Embedding_input[0][0]            \n",
      "__________________________________________________________________________________________________\n",
      "dense_1 (Dense)                 (None, 25, 10)       90          Casing_input[0][0]               \n",
      "__________________________________________________________________________________________________\n",
      "dropout_1 (Dropout)             (None, 25, 30)       0           Flatten[0][0]                    \n",
      "__________________________________________________________________________________________________\n",
      "concatenate (Concatenate)       (None, 25, 552)      0           dense[0][0]                      \n",
      "                                                                 dense_1[0][0]                    \n",
      "                                                                 dropout_1[0][0]                  \n",
      "__________________________________________________________________________________________________\n",
      "BLSTM (Bidirectional)           (None, 25, 512)      1656832     concatenate[0][0]                \n",
      "__________________________________________________________________________________________________\n",
      "time_distributed (TimeDistribut (None, 25, 256)      131328      BLSTM[0][0]                      \n",
      "__________________________________________________________________________________________________\n",
      "Output_ner (TimeDistributed)    (None, 25, 130)      33410       time_distributed[0][0]           \n",
      "==================================================================================================\n",
      "Total params: 1,982,072\n",
      "Trainable params: 1,982,072\n",
      "Non-trainable params: 0\n",
      "__________________________________________________________________________________________________\n"
     ]
    }
   ],
   "source": [
    "# character input\n",
    "character_input = Input(shape=(max_sequence_length, max_char_length), name=\"Character_input\")\n",
    "embed_char_out = TimeDistributed(\n",
    "    Embedding(n_chars, 30, embeddings_initializer=RandomUniform(minval=-0.5, maxval=0.5)),\n",
    "    name=\"Character_embedding\")(\n",
    "    character_input)\n",
    "\n",
    "dropout = Dropout(0.5)(embed_char_out)\n",
    "\n",
    "# CNN\n",
    "conv1d_out = TimeDistributed(\n",
    "    Conv1D(kernel_size=3, filters=30, padding='same', activation='tanh', strides=1),\n",
    "    name=\"Convolution\")(dropout)\n",
    "maxpool_out = TimeDistributed(MaxPooling1D(max_char_length), name=\"Maxpool\")(conv1d_out)\n",
    "char = TimeDistributed(Flatten(), name=\"Flatten\")(maxpool_out)\n",
    "char = Dropout(dropout_rate)(char)\n",
    "\n",
    "# word-level input\n",
    "words_input = Input(shape=(max_sequence_length, embedding_dim), dtype='float32', name=\"Embedding_input\")\n",
    "words = Dense(512, activation=\"relu\")(words_input)\n",
    "\n",
    "# # case-info input\n",
    "casing_input = Input(shape=(max_sequence_length, len(case2idx)), dtype='float32', name='Casing_input')\n",
    "casing = Dense(10, activation='relu')(casing_input)\n",
    "\n",
    "# concat & BLSTM\n",
    "output = concatenate([words, casing, char])\n",
    "output = Bidirectional(LSTM(lstm_size,\n",
    "                            return_sequences=True,\n",
    "                            dropout=dropout_rate,  # on input to each LSTM block\n",
    "                            recurrent_dropout=recurrent_dropout_rate  # on recurrent input signal\n",
    "                            ), name=\"BLSTM\")(output)\n",
    "output = TimeDistributed(Dense(lstm_size, activation='relu'))(output)\n",
    "output_ner = TimeDistributed(Dense(n_labels, activation='softmax'), name=\"Output_ner\")(output)\n",
    "\n",
    "# set up model\n",
    "model = Model(inputs=[words_input, character_input, casing_input], outputs=output_ner)\n",
    "\n",
    "losses = {\n",
    "    \"Output_ner\": \"categorical_crossentropy\"\n",
    "}\n",
    "\n",
    "model.compile(loss=losses, optimizer=optimizer, metrics=[\"acc\"])\n",
    "\n",
    "model.summary()"
   ]
  },
  {
   "cell_type": "code",
   "execution_count": 25,
   "metadata": {},
   "outputs": [
    {
     "data": {
      "image/png": "[encoded data removed]",
      "text/plain": [
       "<IPython.core.display.Image object>"
      ]
     },
     "execution_count": 25,
     "metadata": {},
     "output_type": "execute_result"
    }
   ],
   "source": [
    "from tensorflow.keras.utils import plot_model\n",
    "plot_model(model, to_file='model.png')"
   ]
  },
  {
   "cell_type": "markdown",
   "metadata": {},
   "source": [
    "# Training"
   ]
  },
  {
   "cell_type": "code",
   "execution_count": 26,
   "metadata": {},
   "outputs": [
    {
     "name": "stdout",
     "output_type": "stream",
     "text": [
      "WARNING:tensorflow:From /home/ec2-user/anaconda3/envs/tensorflow_p36/lib/python3.6/site-packages/tensorflow_core/python/ops/math_grad.py:1424: where (from tensorflow.python.ops.array_ops) is deprecated and will be removed in a future version.\n",
      "Instructions for updating:\n",
      "Use tf.where in 2.0, which has the same broadcast rule as np.where\n",
      "Train on 4480 samples, validate on 498 samples\n",
      "Epoch 1/64\n",
      "4480/4480 [==============================] - 20s 4ms/sample - loss: 0.5806 - acc: 0.8891 - val_loss: 0.1939 - val_acc: 0.9576\n",
      "Epoch 2/64\n",
      "4480/4480 [==============================] - 16s 4ms/sample - loss: 0.1355 - acc: 0.9673 - val_loss: 0.0898 - val_acc: 0.9784\n",
      "Epoch 3/64\n",
      "4480/4480 [==============================] - 16s 4ms/sample - loss: 0.0782 - acc: 0.9794 - val_loss: 0.0642 - val_acc: 0.9842\n",
      "Epoch 4/64\n",
      "4480/4480 [==============================] - 16s 4ms/sample - loss: 0.0555 - acc: 0.9854 - val_loss: 0.0525 - val_acc: 0.9871\n",
      "Epoch 5/64\n",
      "4480/4480 [==============================] - 16s 4ms/sample - loss: 0.0411 - acc: 0.9892 - val_loss: 0.0417 - val_acc: 0.9891\n",
      "Epoch 6/64\n",
      "4480/4480 [==============================] - 16s 4ms/sample - loss: 0.0319 - acc: 0.9918 - val_loss: 0.0373 - val_acc: 0.9905\n",
      "Epoch 7/64\n",
      "4480/4480 [==============================] - 16s 4ms/sample - loss: 0.0261 - acc: 0.9934 - val_loss: 0.0333 - val_acc: 0.9917\n",
      "Epoch 8/64\n",
      "4480/4480 [==============================] - 16s 4ms/sample - loss: 0.0213 - acc: 0.9942 - val_loss: 0.0301 - val_acc: 0.9926\n",
      "Epoch 9/64\n",
      "4480/4480 [==============================] - 16s 4ms/sample - loss: 0.0178 - acc: 0.9953 - val_loss: 0.0280 - val_acc: 0.9928\n",
      "Epoch 10/64\n",
      "4480/4480 [==============================] - 16s 4ms/sample - loss: 0.0156 - acc: 0.9958 - val_loss: 0.0253 - val_acc: 0.9937\n",
      "Epoch 11/64\n",
      "4480/4480 [==============================] - 16s 4ms/sample - loss: 0.0132 - acc: 0.9965 - val_loss: 0.0256 - val_acc: 0.9930\n",
      "Epoch 12/64\n",
      "4480/4480 [==============================] - 16s 4ms/sample - loss: 0.0111 - acc: 0.9969 - val_loss: 0.0256 - val_acc: 0.9935\n",
      "Epoch 00012: early stopping\n"
     ]
    }
   ],
   "source": [
    "from tensorflow.keras.callbacks import EarlyStopping\n",
    "\n",
    "es = EarlyStopping(monitor='val_loss', mode='min', verbose=1, patience=2)\n",
    "\n",
    "history = model.fit([train_embeddings_input, train_char_input, train_case_input], to_categorical(ner_train_output.reshape(-1,25,1), num_classes=len(label2idx)), batch_size=batch_size, epochs=epochs, validation_split=validation_split, verbose=1, callbacks=[es], use_multiprocessing=True)"
   ]
  },
  {
   "cell_type": "markdown",
   "metadata": {},
   "source": [
    "# Test part"
   ]
  },
  {
   "cell_type": "code",
   "execution_count": 27,
   "metadata": {},
   "outputs": [],
   "source": [
    "test_char_input = np.asarray(transform_seq2char(test_data[\"token\"], char2idx, max_sequence_length, max_char_length))\n",
    "test_case_input = to_categorical(np.asarray(transform_seq2case(test_data[\"token\"], case2idx, max_sequence_length)), num_classes=len(case2idx), dtype='float32')\n",
    "\n",
    "if embedding_type == \"bert\":\n",
    "    test_embeddings_input = client.encode(test_data[\"token\"], is_tokenized=True)\n",
    "elif embedding_type == \"fasttext\":\n",
    "    test_embeddings_input = fasttext.texts_to_sequences(test_data[\"token\"])\n",
    "elif embedding_type == \"glove\":\n",
    "    test_embeddings_input = glove.texts_to_sequences(test_data[\"token\"], padding=max_sequence_length)\n",
    "else:\n",
    "    print(\"Unknown embedding_type: {}\".format(embedding_type))"
   ]
  },
  {
   "cell_type": "code",
   "execution_count": 28,
   "metadata": {},
   "outputs": [
    {
     "name": "stdout",
     "output_type": "stream",
     "text": [
      "893/893 [==============================] - 2s 2ms/sample\n"
     ]
    }
   ],
   "source": [
    "from sklearn.metrics import classification_report\n",
    "\n",
    "y_pred_ner = model.predict([test_embeddings_input, test_char_input, test_case_input], batch_size=batch_size, verbose=1)\n"
   ]
  },
  {
   "cell_type": "code",
   "execution_count": 29,
   "metadata": {},
   "outputs": [],
   "source": [
    "ner_test_output = np.asarray([[label2idx[tag] for tag in example] for example in test_data[\"ner\"]])"
   ]
  },
  {
   "cell_type": "code",
   "execution_count": 30,
   "metadata": {},
   "outputs": [],
   "source": [
    "y_pred_ner_bool = np.argmax(y_pred_ner, axis=2)"
   ]
  },
  {
   "cell_type": "code",
   "execution_count": 31,
   "metadata": {},
   "outputs": [],
   "source": [
    "ner_pred_postprocessed = []\n",
    "ner_test_postprocessed = []\n",
    "\n",
    "for i, x in enumerate(ner_test_output):\n",
    "    for item in y_pred_ner_bool[i][:len(x)]:\n",
    "        ner_pred_postprocessed.append(item)\n",
    "    for item in x[:len(y_pred_ner_bool[i][:len(x)])]:\n",
    "        ner_test_postprocessed.append(item)"
   ]
  },
  {
   "cell_type": "code",
   "execution_count": 32,
   "metadata": {},
   "outputs": [
    {
     "name": "stderr",
     "output_type": "stream",
     "text": [
      "/home/ec2-user/anaconda3/envs/tensorflow_p36/lib/python3.6/site-packages/sklearn/metrics/classification.py:1437: UndefinedMetricWarning: Precision and F-score are ill-defined and being set to 0.0 in labels with no predicted samples.\n",
      "  'precision', 'predicted', average, warn_for)\n",
      "/home/ec2-user/anaconda3/envs/tensorflow_p36/lib/python3.6/site-packages/sklearn/metrics/classification.py:1439: UndefinedMetricWarning: Recall and F-score are ill-defined and being set to 0.0 in labels with no true samples.\n",
      "  'recall', 'true', average, warn_for)\n"
     ]
    }
   ],
   "source": [
    "ner_test_metric = classification_report(ner_pred_postprocessed, ner_test_postprocessed, output_dict=True)"
   ]
  },
  {
   "cell_type": "code",
   "execution_count": 33,
   "metadata": {},
   "outputs": [],
   "source": [
    "ner_accuracy = sum([1 if x == y else 0 for x, y in zip(ner_pred_postprocessed, ner_test_postprocessed)]) / float(len(ner_pred_postprocessed))"
   ]
  },
  {
   "cell_type": "code",
   "execution_count": 34,
   "metadata": {},
   "outputs": [
    {
     "data": {
      "text/plain": [
       "<Figure size 640x480 with 1 Axes>"
      ]
     },
     "metadata": {},
     "output_type": "display_data"
    }
   ],
   "source": [
    "from matplotlib import pyplot\n",
    "\n",
    "pyplot.plot(history.history['loss'], label='train')\n",
    "pyplot.plot(history.history['val_loss'], label='test')\n",
    "pyplot.legend()\n",
    "pyplot.savefig('val.png')\n",
    "pyplot.show()"
   ]
  },
  {
   "cell_type": "code",
   "execution_count": 35,
   "metadata": {},
   "outputs": [],
   "source": [
    "import mlflow\n",
    "import json\n",
    "\n",
    "mlflow.set_tracking_uri(\"https://mlflow.XX.ai/\")\n",
    "mlflow.set_experiment(\"poster-2020-lorenc\")\n",
    "\n",
    "mlflow.log_param(\"info\", \"Only NER\")\n",
    "mlflow.log_param(\"embedding_type\", embedding_type)\n",
    "\n",
    "mlflow.log_param(\"max_sequence_length\", max_sequence_length)\n",
    "mlflow.log_param(\"max_char_length\", max_char_length)\n",
    "mlflow.log_param(\"embedding_dim\", embedding_dim)\n",
    "mlflow.log_param(\"dropout_rate\", dropout_rate)\n",
    "mlflow.log_param(\"recurrent_dropout_rate\", recurrent_dropout_rate)\n",
    "mlflow.log_param(\"lstm_size\", lstm_size)\n",
    "mlflow.log_param(\"dense_size_word\", dense_size_word)\n",
    "mlflow.log_param(\"dense_size_case\", dense_size_case)\n",
    "\n",
    "mlflow.log_param(\"batch_size\", batch_size)\n",
    "mlflow.log_param(\"epochs\", epochs)\n",
    "mlflow.log_param(\"validation_split\", validation_split)\n",
    "\n",
    "mlflow.log_param(\"optimizer\", optimizer)\n",
    "mlflow.log_param(\"n_labels\", n_labels)\n",
    "mlflow.log_param(\"n_chars\", n_chars)\n",
    "mlflow.log_param(\"n_intents\", n_intents)\n",
    "\n",
    "mlflow.log_metrics({str(k + \"_ner\"): v for k, v in ner_test_metric[\"weighted avg\"].items()})\n",
    "mlflow.log_metric(\"epochs_till_stop\", len(history.history['loss']))\n",
    "mlflow.log_metric(\"ner_accuracy\", ner_accuracy)\n",
    "\n",
    "mlflow.log_artifact(\"./model.png\")\n",
    "mlflow.log_artifact(\"./val.png\")\n",
    "\n",
    "mlflow.end_run()"
   ]
  },
  {
   "cell_type": "code",
   "execution_count": null,
   "metadata": {},
   "outputs": [],
   "source": []
  }
 ],
 "metadata": {
  "kernelspec": {
   "display_name": "conda_tensorflow_p36",
   "language": "python",
   "name": "conda_tensorflow_p36"
  },
  "language_info": {
   "codemirror_mode": {
    "name": "ipython",
    "version": 3
   },
   "file_extension": ".py",
   "mimetype": "text/x-python",
   "name": "python",
   "nbconvert_exporter": "python",
   "pygments_lexer": "ipython3",
   "version": "3.6.5"
  }
 },
 "nbformat": 4,
 "nbformat_minor": 4
}
